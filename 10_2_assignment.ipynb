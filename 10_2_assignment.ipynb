{
  "cells": [
    {
      "cell_type": "markdown",
      "metadata": {
        "id": "oY7M_WqQy7zz"
      },
      "source": [
        "# Assignment 10.2\n",
        "\n",
        "> Replace all TODOs with your code. Do not change any other code."
      ]
    },
    {
      "cell_type": "code",
      "execution_count": 1,
      "metadata": {
        "id": "DCZ2nU3KCFyk"
      },
      "outputs": [],
      "source": [
        "# Do not edit this cell\n",
        "\n",
        "import csv\n",
        "import unittest\n"
      ]
    },
    {
      "cell_type": "markdown",
      "metadata": {
        "id": "Jz8SYjAz0N8D"
      },
      "source": [
        "## Clean code"
      ]
    },
    {
      "cell_type": "markdown",
      "metadata": {
        "id": "IHwd1Zzby7z1"
      },
      "source": [
        "### Task 1\n",
        "\n",
        "You are given a function that reads a csv file with temperature measurements (see example below), converts Fahrenheit values to Celsius, calculates and prints some statistics, and writes to another file. It looks a bit messy, let's clean it up!\n",
        "\n",
        "Example file:\n",
        "```csv\n",
        "Temperature (F)\n",
        "78.5\n",
        "81.2\n",
        "75.9\n",
        "82.1\n",
        "```\n",
        "\n",
        "Do the steps below one by one, editing the code in the cell:\n",
        "1. Naming is so ambiguous and unclear, let's rename variables and function name with proper names.\n",
        "2. Are these comments really useful?\n",
        "3. This function does quite a lot, let's divide it in the way that each function does only one thing, and there's one main function that uses others.\n",
        "4. There seem to be some magic coefficients in the temperature conversion part; let's make them obvious.\n",
        "\n",
        "If you find any additional improvements, feel free to implement them and leave a comment under your code with an explanation."
      ]
    },
    {
      "cell_type": "code",
      "execution_count": 3,
      "metadata": {
        "tags": [
          "task_1"
        ],
        "id": "uBoo2azsCFyv"
      },
      "outputs": [],
      "source": [
        "FAHRENHEIT_OFFSET = 32\n",
        "FAHRENHEIT_TO_CELSIUS = 5 / 9\n",
        "\n",
        "def fahrenheit_to_celsius(fahrenheit):\n",
        "    return (fahrenheit - FAHRENHEIT_OFFSET) * FAHRENHEIT_TO_CELSIUS\n",
        "\n",
        "def read_temperatures(filename):\n",
        "    temperatures = []\n",
        "    with open(filename, 'r') as file:\n",
        "        reader = csv.reader(file)\n",
        "        next(reader)\n",
        "        for row in reader:\n",
        "            fahrenheit = float(row[0])\n",
        "            celsius = fahrenheit_to_celsius(fahrenheit)\n",
        "            temperatures.append(celsius)\n",
        "    return temperatures\n",
        "\n",
        "def calculate_stats(temperatures):\n",
        "    average = sum(temperatures) / len(temperatures)\n",
        "    return average, min(temperatures), max(temperatures)\n",
        "\n",
        "def write_to_csv(filename, temperatures):\n",
        "    with open(filename, 'w', newline='') as file:\n",
        "        writer = csv.writer(file)\n",
        "        writer.writerow(['Temperature (C)'])\n",
        "        for t in temperatures:\n",
        "            writer.writerow([t])\n",
        "\n",
        "def main(input_file, output_file):\n",
        "    temps = read_temperatures(input_file)\n",
        "    average, minimum, maximum = calculate_stats(temps)\n",
        "\n",
        "    print(\"Statistics:\")\n",
        "    print(f\"Average: {average:.2f}°C\")\n",
        "    print(f\"Minimum: {minimum:.2f}°C\")\n",
        "    print(f\"Maximum: {maximum:.2f}°C\")\n",
        "\n",
        "    write_to_csv(output_file, temps)\n"
      ]
    },
    {
      "cell_type": "markdown",
      "metadata": {
        "id": "lL-ELM-Ay7z2"
      },
      "source": [
        "### Task 2\n",
        "\n",
        "How would you write tests for the initial implementation? What exactly would you test in the function?\n",
        "\n",
        "I hope you see now that once functionality is separated, it's easier to test it in isolation. So, let's write a couple of unit tests for your function and one integration test for your main function.\n",
        "\n",
        "Hint: you would probably want to mock reading from/writing to file to make the test independent from the environment."
      ]
    },
    {
      "cell_type": "code",
      "execution_count": 6,
      "metadata": {
        "id": "cibiSsjry7z3",
        "tags": [
          "task_2"
        ],
        "colab": {
          "base_uri": "https://localhost:8080/"
        },
        "outputId": "ce597305-4068-42bd-fb4f-5bdcce6ab835"
      },
      "outputs": [
        {
          "output_type": "stream",
          "name": "stderr",
          "text": [
            "...\n",
            "----------------------------------------------------------------------\n",
            "Ran 3 tests in 0.017s\n",
            "\n",
            "OK\n"
          ]
        },
        {
          "output_type": "stream",
          "name": "stdout",
          "text": [
            "Statistics:\n",
            "Average: 25.85°C\n",
            "Minimum: 24.39°C\n",
            "Maximum: 27.33°C\n"
          ]
        },
        {
          "output_type": "execute_result",
          "data": {
            "text/plain": [
              "<unittest.main.TestProgram at 0x7c9569780440>"
            ]
          },
          "metadata": {},
          "execution_count": 6
        }
      ],
      "source": [
        "from unittest.mock import mock_open, patch\n",
        "from io import StringIO\n",
        "\n",
        "class UnitTestCase(unittest.TestCase):\n",
        "    def test_fahrenheit_to_celsius(self):\n",
        "        self.assertAlmostEqual(fahrenheit_to_celsius(32), 0.0)\n",
        "        self.assertAlmostEqual(fahrenheit_to_celsius(212), 100.0)\n",
        "        self.assertAlmostEqual(fahrenheit_to_celsius(77), 25.0, places=6)\n",
        "\n",
        "    def test_calculate_stats(self):\n",
        "        avg, mn, mx = calculate_stats([0.0, 10.0, 20.0])\n",
        "        self.assertAlmostEqual(avg, 10.0)\n",
        "        self.assertEqual(mn, 0.0)\n",
        "        self.assertEqual(mx, 20.0)\n",
        "\n",
        "\n",
        "class IntegrationTestCase(unittest.TestCase):\n",
        "    def test_main_reads_converts_and_writes_csv(self):\n",
        "        input_csv = \"Temperature (F)\\n78.5\\n81.2\\n75.9\\n\"\n",
        "        m_in = mock_open(read_data = input_csv)\n",
        "        m_out = mock_open()\n",
        "\n",
        "        with patch(\"builtins.open\", side_effect=[m_in.return_value, m_out.return_value]):\n",
        "            main(\"in.csv\", \"out.csv\")\n",
        "\n",
        "        written = \"\".join(call.args[0] for call in m_out().write.mock_calls)\n",
        "        rows = list(csv.reader(StringIO(written)))\n",
        "        self.assertEqual(rows[0], [\"Temperature (C)\"])\n",
        "\n",
        "        values = [float(r[0]) for r in rows[1:]]\n",
        "        self.assertAlmostEqual(values[0], fahrenheit_to_celsius(78.5))\n",
        "        self.assertAlmostEqual(values[1], fahrenheit_to_celsius(81.2))\n",
        "        self.assertAlmostEqual(values[2], fahrenheit_to_celsius(75.9))\n",
        "\n",
        "\n",
        "unittest.main(argv=[''], exit = False)\n"
      ]
    }
  ],
  "metadata": {
    "colab": {
      "provenance": []
    },
    "kernelspec": {
      "display_name": "venv",
      "language": "python",
      "name": "python3"
    },
    "language_info": {
      "codemirror_mode": {
        "name": "ipython",
        "version": 3
      },
      "file_extension": ".py",
      "mimetype": "text/x-python",
      "name": "python",
      "nbconvert_exporter": "python",
      "pygments_lexer": "ipython3",
      "version": "3.11.5"
    },
    "orig_nbformat": 4
  },
  "nbformat": 4,
  "nbformat_minor": 0
}