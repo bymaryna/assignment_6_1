{
  "cells": [
    {
      "cell_type": "markdown",
      "metadata": {
        "id": "-89_Z_je0cfL"
      },
      "source": [
        "# Assignment 5.1\n",
        "\n",
        "> Replace all TODOs with your code.\n",
        ">\n",
        "> Do not change any other code and do not add/remove cells!"
      ]
    },
    {
      "cell_type": "markdown",
      "metadata": {
        "id": "w6E-GxTB0j4M"
      },
      "source": [
        "## Files"
      ]
    },
    {
      "cell_type": "markdown",
      "metadata": {
        "id": "iEwuf_DP0cfM"
      },
      "source": [
        "### Task 1\n",
        "\n",
        "Create a new file named \"hello.txt\" and write to it \"Hello, world!\"."
      ]
    },
    {
      "cell_type": "code",
      "execution_count": null,
      "metadata": {
        "id": "IWVOCWxx0cfM",
        "tags": [
          "task_1"
        ]
      },
      "outputs": [],
      "source": [
        "file = open('hello.txt', 'w')\n",
        "file.write('Hellow, world!')\n",
        "file.close()"
      ]
    },
    {
      "cell_type": "markdown",
      "metadata": {
        "id": "2z8HqsaK0cfN"
      },
      "source": [
        "### Task 2\n",
        "\n",
        "Open the file \"hello.txt\" and rewrite it with a random integer from the range [1, 10]."
      ]
    },
    {
      "cell_type": "code",
      "execution_count": null,
      "metadata": {
        "id": "kva_9ycA0cfN",
        "tags": [
          "task_2"
        ]
      },
      "outputs": [],
      "source": [
        "import random\n",
        "\n",
        "with open('hello.txt', 'w', encoding='utf-8') as file:\n",
        "    number = random.randint(1, 10)\n",
        "    file.write(str(number))"
      ]
    },
    {
      "cell_type": "markdown",
      "metadata": {
        "id": "IqjW7SGS0cfN"
      },
      "source": [
        "### Task 3\n",
        "\n",
        "Open file \"hello.txt\" and read the number from it to variable `n`. Now append `n` upper-case letters starting with \"A\", \"B\", ... to the file."
      ]
    },
    {
      "cell_type": "code",
      "execution_count": null,
      "metadata": {
        "id": "p83RQvA40cfN",
        "tags": [
          "task_3"
        ]
      },
      "outputs": [],
      "source": [
        "import random\n",
        "import string\n",
        "\n",
        "number = random.randint(1, 10)\n",
        "\n",
        "with open('hello.txt', 'w', encoding='utf-8') as file:\n",
        "    file.write(str(number))\n",
        "\n",
        "with open('hello.txt', 'r+', encoding='utf-8') as file:\n",
        "    n = int(file.read().strip())\n",
        "    file.seek(0, 2)\n",
        "    file.write(string.ascii_uppercase[:n])"
      ]
    },
    {
      "cell_type": "markdown",
      "source": [],
      "metadata": {
        "id": "8RcubL49yg2m"
      }
    },
    {
      "cell_type": "markdown",
      "metadata": {
        "id": "fceBNTpUnip6"
      },
      "source": [
        "### Task 4\n",
        "\n",
        "Now open this file again and print to console its content."
      ]
    },
    {
      "cell_type": "code",
      "execution_count": null,
      "metadata": {
        "id": "VsoALrbBnsjs",
        "tags": [
          "task_4"
        ],
        "colab": {
          "base_uri": "https://localhost:8080/"
        },
        "outputId": "eb875382-3928-4bf1-da75-4121c0e40b69"
      },
      "outputs": [
        {
          "output_type": "stream",
          "name": "stdout",
          "text": [
            "3 ABC\n"
          ]
        }
      ],
      "source": [
        "with open('hello.txt', 'r') as file:\n",
        "    content = file.read()\n",
        "    print(content)"
      ]
    },
    {
      "cell_type": "markdown",
      "metadata": {
        "id": "cBs-hn5nEvup"
      },
      "source": [
        "## CSV"
      ]
    },
    {
      "cell_type": "markdown",
      "metadata": {
        "id": "XysWADCIEvuq"
      },
      "source": [
        "### Task 5\n",
        "\n",
        "You have some warehouse data stored in the `warehouse` list. You want to persist this data to the disk in CSV format.\n",
        "\n",
        "Create a file `warehouse_v1.csv` and write the contents of `warehouse` list to it. Use the same methods for working with files as in previous exercises (i.e., `file.write()`).\n",
        "\n",
        "The file should look like this:\n",
        "```csv\n",
        "product,price,quantity\n",
        "Apple,0.5,10\n",
        "...\n",
        "```"
      ]
    },
    {
      "cell_type": "code",
      "execution_count": null,
      "metadata": {
        "tags": [
          "task_5"
        ],
        "id": "nUmJtZa2Evur"
      },
      "outputs": [],
      "source": [
        "warehouse = [\n",
        "    {\"product\": \"Apple\", \"price\": 0.5, \"quantity\": 10},\n",
        "    {\"product\": \"Banana\", \"price\": 0.75, \"quantity\": 20},\n",
        "    {\"product\": \"Orange\", \"price\": 0.35, \"quantity\": 15}\n",
        "]\n",
        "\n",
        "with open('warehouse_v1.csv', 'w') as file:\n",
        "    file.write(\"product,price,quantity\\n\")\n",
        "\n",
        "    for item in warehouse:\n",
        "        line = f\"{item['product']},{item['price']},{item['quantity']}\\n\"\n",
        "        file.write(line)"
      ]
    },
    {
      "cell_type": "markdown",
      "metadata": {
        "id": "B1v2ZLfYEvut"
      },
      "source": [
        "### Task 6\n",
        "\n",
        "Now use csv writer convenience methods to do the same to the file `warehouse_v2.csv`. The file content should be identical."
      ]
    },
    {
      "cell_type": "code",
      "execution_count": null,
      "metadata": {
        "tags": [
          "task_6"
        ],
        "id": "HfQ1i0TjEvuu"
      },
      "outputs": [],
      "source": [
        "import csv\n",
        "\n",
        "warehouse = [\n",
        "    {\"product\": \"Apple\", \"price\": 0.5, \"quantity\": 10},\n",
        "    {\"product\": \"Banana\", \"price\": 0.75, \"quantity\": 20},\n",
        "    {\"product\": \"Orange\", \"price\": 0.35, \"quantity\": 15}\n",
        "]\n",
        "\n",
        "with open('warehouse_v2.csv', 'w', newline='') as file:\n",
        "    writer = csv.writer(file)\n",
        "\n",
        "    writer.writerow(['product', 'price', 'quantity'])\n",
        "\n",
        "    for item in warehouse:\n",
        "        writer.writerow([item['product'], item['price'], item['quantity']])"
      ]
    },
    {
      "cell_type": "markdown",
      "metadata": {
        "id": "hY-gVS93Evuv"
      },
      "source": [
        "## JSON"
      ]
    },
    {
      "cell_type": "markdown",
      "metadata": {
        "id": "WBABzqgMEvuv"
      },
      "source": [
        "### Task 7\n",
        "\n",
        "The lecture didn't mention this, but another common way to store information on disk is JSON. The JSON structure comes from Javascript, but somehow similar to native Python structures like `list` and `dict`. There's `json` module to help you work with JSON files.\n",
        "\n",
        "Now, store the same `warehouse` object to the `warehouse.json` file and inspect its content. Use the internet to look up the needed functions."
      ]
    },
    {
      "cell_type": "code",
      "execution_count": null,
      "metadata": {
        "tags": [
          "task_7"
        ],
        "id": "dGWzuDdwEvuw"
      },
      "outputs": [],
      "source": [
        "import json\n",
        "\n",
        "warehouse = [\n",
        "    {\"product\": \"Apple\", \"price\": 0.5, \"quantity\": 10},\n",
        "    {\"product\": \"Banana\", \"price\": 0.75, \"quantity\": 20},\n",
        "    {\"product\": \"Orange\", \"price\": 0.35, \"quantity\": 15}\n",
        "]\n",
        "\n",
        "with open('warehouse.json', 'w') as file:\n",
        "    json.dump(warehouse, file, indent = 4)"
      ]
    }
  ],
  "metadata": {
    "colab": {
      "provenance": []
    },
    "kernelspec": {
      "display_name": "venv",
      "language": "python",
      "name": "python3"
    },
    "language_info": {
      "codemirror_mode": {
        "name": "ipython",
        "version": 3
      },
      "file_extension": ".py",
      "mimetype": "text/x-python",
      "name": "python",
      "nbconvert_exporter": "python",
      "pygments_lexer": "ipython3",
      "version": "3.11.5"
    },
    "orig_nbformat": 4
  },
  "nbformat": 4,
  "nbformat_minor": 0
}